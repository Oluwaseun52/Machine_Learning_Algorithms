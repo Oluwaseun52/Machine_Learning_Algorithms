{
 "cells": [
  {
   "cell_type": "code",
   "execution_count": 1,
   "id": "4fb02964",
   "metadata": {},
   "outputs": [],
   "source": [
    "# importing necessary libraries\n",
    "\n",
    "import numpy as np\n",
    "import pandas as pd\n",
    "\n",
    "import matplotlib.pyplot as plt\n",
    "import seaborn as sns\n",
    "\n",
    "from sklearn.model_selection import train_test_split\n",
    "from sklearn.linear_model import LinearRegression\n",
    "from sklearn.linear_model import Ridge\n",
    "from sklearn.metrics import r2_score\n",
    "\n",
    "import warnings\n",
    "warnings.filterwarnings('ignore')"
   ]
  },
  {
   "cell_type": "code",
   "execution_count": 2,
   "id": "97c9c534",
   "metadata": {},
   "outputs": [
    {
     "data": {
      "text/html": [
       "<div>\n",
       "<style scoped>\n",
       "    .dataframe tbody tr th:only-of-type {\n",
       "        vertical-align: middle;\n",
       "    }\n",
       "\n",
       "    .dataframe tbody tr th {\n",
       "        vertical-align: top;\n",
       "    }\n",
       "\n",
       "    .dataframe thead th {\n",
       "        text-align: right;\n",
       "    }\n",
       "</style>\n",
       "<table border=\"1\" class=\"dataframe\">\n",
       "  <thead>\n",
       "    <tr style=\"text-align: right;\">\n",
       "      <th></th>\n",
       "      <th>Height</th>\n",
       "      <th>Weight</th>\n",
       "    </tr>\n",
       "  </thead>\n",
       "  <tbody>\n",
       "    <tr>\n",
       "      <th>0</th>\n",
       "      <td>170.0</td>\n",
       "      <td>60.00</td>\n",
       "    </tr>\n",
       "    <tr>\n",
       "      <th>1</th>\n",
       "      <td>169.6</td>\n",
       "      <td>59.10</td>\n",
       "    </tr>\n",
       "    <tr>\n",
       "      <th>2</th>\n",
       "      <td>168.4</td>\n",
       "      <td>58.17</td>\n",
       "    </tr>\n",
       "    <tr>\n",
       "      <th>3</th>\n",
       "      <td>162.0</td>\n",
       "      <td>54.00</td>\n",
       "    </tr>\n",
       "    <tr>\n",
       "      <th>4</th>\n",
       "      <td>163.0</td>\n",
       "      <td>55.50</td>\n",
       "    </tr>\n",
       "  </tbody>\n",
       "</table>\n",
       "</div>"
      ],
      "text/plain": [
       "   Height  Weight\n",
       "0   170.0   60.00\n",
       "1   169.6   59.10\n",
       "2   168.4   58.17\n",
       "3   162.0   54.00\n",
       "4   163.0   55.50"
      ]
     },
     "execution_count": 2,
     "metadata": {},
     "output_type": "execute_result"
    }
   ],
   "source": [
    "# loading in the dataset\n",
    "\n",
    "df = pd.read_csv(r'C:\\Users\\seunt\\Downloads\\SUPERVISE ML UDEMY\\datasets\\Weight.csv')\n",
    "\n",
    "df.head()"
   ]
  },
  {
   "cell_type": "code",
   "execution_count": 3,
   "id": "1f886c14",
   "metadata": {},
   "outputs": [],
   "source": [
    "# splitting the data into independent and dependent variable\n",
    "\n",
    "x = df.iloc[0: , 0].values\n",
    "y = df.iloc[0: , 1].values"
   ]
  },
  {
   "cell_type": "code",
   "execution_count": 4,
   "id": "15c78cf2",
   "metadata": {},
   "outputs": [],
   "source": [
    "# reshaping x and y into 2-D from 1-D\n",
    "\n",
    "x1 = np.reshape(x, (-1, 1))\n",
    "\n",
    "y1 = np.reshape(y, (-1, 1))"
   ]
  },
  {
   "cell_type": "code",
   "execution_count": 5,
   "id": "6b7759ef",
   "metadata": {},
   "outputs": [
    {
     "data": {
      "text/plain": [
       "(10, 1)"
      ]
     },
     "execution_count": 5,
     "metadata": {},
     "output_type": "execute_result"
    }
   ],
   "source": [
    "x1.shape"
   ]
  },
  {
   "cell_type": "code",
   "execution_count": 6,
   "id": "2bbedd2e",
   "metadata": {},
   "outputs": [
    {
     "data": {
      "text/plain": [
       "(10, 1)"
      ]
     },
     "execution_count": 6,
     "metadata": {},
     "output_type": "execute_result"
    }
   ],
   "source": [
    "y1.shape"
   ]
  },
  {
   "cell_type": "code",
   "execution_count": 7,
   "id": "be0c18f4",
   "metadata": {},
   "outputs": [],
   "source": [
    "# splitting the data into training and texting set\n",
    "\n",
    "X_train, X_test, Y_train, Y_test = train_test_split(x1, y1, test_size = 0.7, random_state = 0)"
   ]
  },
  {
   "cell_type": "code",
   "execution_count": 8,
   "id": "95dd0840",
   "metadata": {},
   "outputs": [],
   "source": [
    "# creating an instance for the Linear Regression\n",
    "\n",
    "lin_reg = LinearRegression()\n",
    "\n",
    "lin_reg.fit(X_train, Y_train) # fitting the model for the training data\n",
    "\n",
    "y_pred = lin_reg.predict(X_train) # predicting the training data to compare with y_train\n",
    "\n",
    "y_pred1 = lin_reg.predict(X_test) # predicting the testing data to compare with y_test"
   ]
  },
  {
   "cell_type": "code",
   "execution_count": 9,
   "id": "95b187fc",
   "metadata": {},
   "outputs": [
    {
     "data": {
      "image/png": "[encoded data removed]",
      "text/plain": [
       "<Figure size 640x480 with 1 Axes>"
      ]
     },
     "metadata": {},
     "output_type": "display_data"
    }
   ],
   "source": [
    "# visualizing the training data to see the overfitting effect\n",
    "\n",
    "plt.scatter(X_train, Y_train, color = 'red')\n",
    "plt.plot(X_train, y_pred, color = 'blue')\n",
    "plt.xlabel('height')\n",
    "plt.ylabel('weight')\n",
    "\n",
    "plt.show()"
   ]
  },
  {
   "cell_type": "markdown",
   "id": "c22f46ee",
   "metadata": {},
   "source": [
    "- From the plot above, we can see the regression line fitting so well on the training data and the SSR in this case is almost Zero becasue there is no much difference between the actual data points and the predicted data points."
   ]
  },
  {
   "cell_type": "code",
   "execution_count": 10,
   "id": "21ccf246",
   "metadata": {},
   "outputs": [
    {
     "data": {
      "image/png": "[encoded data removed]",
      "text/plain": [
       "<Figure size 640x480 with 1 Axes>"
      ]
     },
     "metadata": {},
     "output_type": "display_data"
    }
   ],
   "source": [
    "# visualizing the testing data to see the high variance in the testing data\n",
    "\n",
    "plt.scatter(X_test, Y_test, color = 'red')\n",
    "plt.plot(X_test, y_pred1, color = 'blue')\n",
    "plt.xlabel('height')\n",
    "plt.ylabel('weight')\n",
    "\n",
    "plt.show()"
   ]
  },
  {
   "cell_type": "markdown",
   "id": "d8df1778",
   "metadata": {},
   "source": [
    "- Now we test the trained model on the testing data and we can see the high variace between the actual data points and the regression line which represent the predicted values. The value of SSR in this case is high which means the model despite performing so well on the trining data as we see in the first plot performs poorly on the testing data, this we can refer to as overfitting."
   ]
  },
  {
   "cell_type": "code",
   "execution_count": 11,
   "id": "ef6f1395",
   "metadata": {},
   "outputs": [],
   "source": [
    "# calculating the r-squared score for both the training and testing data in other to compare\n",
    "\n",
    "r_squared = r2_score(Y_train, y_pred) # r-squared score for the training data\n",
    "\n",
    "r_squared1 = r2_score(Y_test, y_pred1) # r-sqaured score for the testing dat"
   ]
  },
  {
   "cell_type": "code",
   "execution_count": 12,
   "id": "4a056597",
   "metadata": {},
   "outputs": [
    {
     "data": {
      "text/plain": [
       "0.9969443751558994"
      ]
     },
     "execution_count": 12,
     "metadata": {},
     "output_type": "execute_result"
    }
   ],
   "source": [
    "r_squared"
   ]
  },
  {
   "cell_type": "code",
   "execution_count": 13,
   "id": "8b6b344d",
   "metadata": {},
   "outputs": [
    {
     "data": {
      "text/plain": [
       "0.7377715676059698"
      ]
     },
     "execution_count": 13,
     "metadata": {},
     "output_type": "execute_result"
    }
   ],
   "source": [
    "r_squared1"
   ]
  },
  {
   "cell_type": "markdown",
   "id": "ecc9effc",
   "metadata": {},
   "source": [
    "- From the two values of the R-Squared, we can see that the model almost performed with 100% accuracy on the training data but not so well on the testing data. This we can call an overfitting effect where a model perform so well on training data but dissapoint with it's performance on the testing data.\n"
   ]
  },
  {
   "cell_type": "markdown",
   "id": "83d27494",
   "metadata": {},
   "source": [
    "## Introducing Bias with Ridge to See if it Will Address the Issue of Overfitting & High Variance"
   ]
  },
  {
   "cell_type": "code",
   "execution_count": 14,
   "id": "eec38b4a",
   "metadata": {},
   "outputs": [],
   "source": [
    "# let's create an instance for the Ridge Regression\n",
    "\n",
    "rg_reg = Ridge(alpha = 10) # the value of alpha must be carefully considered to strike a balance between r-squared value of the\n",
    "# training and testing data, the difference should not be more than 1%, in fact it should be less than 1%\n",
    "\n",
    "rg_reg.fit(X_train, Y_train) # fitting the ridge regressor on the training data\n",
    "\n",
    "y_pred2 = rg_reg.predict(X_train) # fitting the ridge regressor on the traing data for prediction for comparison\n",
    "\n",
    "y_pred3 = rg_reg.predict(X_test) # fitting the ridge regressor on the testing data"
   ]
  },
  {
   "cell_type": "code",
   "execution_count": 15,
   "id": "2dd562ab",
   "metadata": {},
   "outputs": [
    {
     "data": {
      "image/png": "[encoded data removed]",
      "text/plain": [
       "<Figure size 640x480 with 1 Axes>"
      ]
     },
     "metadata": {},
     "output_type": "display_data"
    }
   ],
   "source": [
    "# visualizing the training data after regularization with ridge\n",
    "\n",
    "plt.scatter(X_train, Y_train, color = 'red')\n",
    "plt.plot(X_train, y_pred2, color = 'blue')\n",
    "plt.xlabel('height')\n",
    "plt.ylabel('weight')\n",
    "\n",
    "plt.show()"
   ]
  },
  {
   "cell_type": "markdown",
   "id": "7ea8651f",
   "metadata": {},
   "source": [
    "- This is the resulting plot after regularization with Ridge Regression. Introducing a small amount of bias result in the deviation of the initial perfectly fitting regression line, thereby increasing the SSR value from zero to a certain value, removing the overfitting effect."
   ]
  },
  {
   "cell_type": "code",
   "execution_count": 16,
   "id": "977ec259",
   "metadata": {},
   "outputs": [
    {
     "data": {
      "image/png": "[encoded data removed]",
      "text/plain": [
       "<Figure size 640x480 with 1 Axes>"
      ]
     },
     "metadata": {},
     "output_type": "display_data"
    }
   ],
   "source": [
    "# visualizing the testing data after regularization with ridge\n",
    "\n",
    "plt.scatter(X_test, Y_test, color = 'red')\n",
    "plt.plot(X_test, y_pred3, color = 'blue')\n",
    "plt.xlabel('height')\n",
    "plt.ylabel('weight')\n",
    "\n",
    "plt.show()"
   ]
  },
  {
   "cell_type": "markdown",
   "id": "1a51ed2e",
   "metadata": {},
   "source": [
    "- And here from the plot above, we can see the regression line is now closer to the testing data points after regularization with some amount of bias, reducing the high variance obversed initially before regularization, which in-turn reduced the high value of the SSR."
   ]
  },
  {
   "cell_type": "code",
   "execution_count": 17,
   "id": "6b3282b5",
   "metadata": {},
   "outputs": [],
   "source": [
    "# computing the r-squared values for both the training and testing data after regularization with ridge\n",
    "\n",
    "r_squared2 = r2_score(Y_train, y_pred2)\n",
    "\n",
    "r_squared3 = r2_score(Y_test, y_pred3)"
   ]
  },
  {
   "cell_type": "code",
   "execution_count": 18,
   "id": "cae605d0",
   "metadata": {},
   "outputs": [
    {
     "data": {
      "text/plain": [
       "0.9536742199842027"
      ]
     },
     "execution_count": 18,
     "metadata": {},
     "output_type": "execute_result"
    }
   ],
   "source": [
    "# r-squared value for the training data after regularization\n",
    "\n",
    "r_squared2 "
   ]
  },
  {
   "cell_type": "code",
   "execution_count": 19,
   "id": "b61481ca",
   "metadata": {},
   "outputs": [
    {
     "data": {
      "text/plain": [
       "0.941594672649175"
      ]
     },
     "execution_count": 19,
     "metadata": {},
     "output_type": "execute_result"
    }
   ],
   "source": [
    "# r-squared value for the testing data after regularization\n",
    "\n",
    "r_squared3 "
   ]
  }
 ],
 "metadata": {
  "kernelspec": {
   "display_name": "Python 3 (ipykernel)",
   "language": "python",
   "name": "python3"
  },
  "language_info": {
   "codemirror_mode": {
    "name": "ipython",
    "version": 3
   },
   "file_extension": ".py",
   "mimetype": "text/x-python",
   "name": "python",
   "nbconvert_exporter": "python",
   "pygments_lexer": "ipython3",
   "version": "3.10.9"
  }
 },
 "nbformat": 4,
 "nbformat_minor": 5
}
